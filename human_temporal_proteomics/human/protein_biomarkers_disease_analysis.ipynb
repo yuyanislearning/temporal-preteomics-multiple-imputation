{
  "cells": [
    {
      "cell_type": "code",
      "execution_count": null,
      "metadata": {
        "colab": {
          "base_uri": "https://localhost:8080/"
        },
        "id": "yyC2cbpSZhhW",
        "outputId": "087dc753-07ee-4589-883a-1d3b877976af"
      },
      "outputs": [
        {
          "name": "stdout",
          "output_type": "stream",
          "text": [
            "Requirement already satisfied: kaleido in /usr/local/lib/python3.10/dist-packages (0.2.1)\n"
          ]
        }
      ],
      "source": [
        "! pip install -U kaleido"
      ]
    },
    {
      "cell_type": "code",
      "execution_count": 1,
      "metadata": {
        "colab": {
          "base_uri": "https://localhost:8080/",
          "height": 146
        },
        "id": "8xQ1Xna7jwcj",
        "outputId": "ca5360c8-c52b-433e-b840-24c18347713e"
      },
      "outputs": [
        {
          "data": {
            "text/html": [
              "<div>\n",
              "<style scoped>\n",
              "    .dataframe tbody tr th:only-of-type {\n",
              "        vertical-align: middle;\n",
              "    }\n",
              "\n",
              "    .dataframe tbody tr th {\n",
              "        vertical-align: top;\n",
              "    }\n",
              "\n",
              "    .dataframe thead th {\n",
              "        text-align: right;\n",
              "    }\n",
              "</style>\n",
              "<table border=\"1\" class=\"dataframe\">\n",
              "  <thead>\n",
              "    <tr style=\"text-align: right;\">\n",
              "      <th></th>\n",
              "      <th>0</th>\n",
              "      <th>1</th>\n",
              "      <th>2</th>\n",
              "      <th>3</th>\n",
              "      <th>4</th>\n",
              "      <th>5</th>\n",
              "      <th>6</th>\n",
              "      <th>7</th>\n",
              "      <th>8</th>\n",
              "      <th>9</th>\n",
              "      <th>10</th>\n",
              "      <th>11</th>\n",
              "    </tr>\n",
              "  </thead>\n",
              "  <tbody>\n",
              "    <tr>\n",
              "      <th>0</th>\n",
              "      <td>1</td>\n",
              "      <td>Glycated hemoglobin</td>\n",
              "      <td>115</td>\n",
              "      <td>Diabetes Mellitus Type 2</td>\n",
              "      <td>Adult: &gt;=18 yrs old</td>\n",
              "      <td>Both</td>\n",
              "      <td>Serum</td>\n",
              "      <td>&gt;6.5 %</td>\n",
              "      <td>%</td>\n",
              "      <td>The specific age range is for 19-79 yrs old</td>\n",
              "      <td>Lee, J. M., Wu, E. L., Tarini, B., Herman, W. ...</td>\n",
              "      <td>21195416.0</td>\n",
              "    </tr>\n",
              "    <tr>\n",
              "      <th>1</th>\n",
              "      <td>1</td>\n",
              "      <td>Glycated hemoglobin</td>\n",
              "      <td>115</td>\n",
              "      <td>Diabetes Mellitus Type 2</td>\n",
              "      <td>Adolescent:13-18 yrs old</td>\n",
              "      <td>Both</td>\n",
              "      <td>Serum</td>\n",
              "      <td>&gt;6.5 %</td>\n",
              "      <td>%</td>\n",
              "      <td>The specific age range is for 12-18 yrs old</td>\n",
              "      <td>Lee, J. M., Wu, E. L., Tarini, B., Herman, W. ...</td>\n",
              "      <td>21195416.0</td>\n",
              "    </tr>\n",
              "  </tbody>\n",
              "</table>\n",
              "</div>"
            ],
            "text/plain": [
              "   0                    1    2                         3   \\\n",
              "0   1  Glycated hemoglobin  115  Diabetes Mellitus Type 2   \n",
              "1   1  Glycated hemoglobin  115  Diabetes Mellitus Type 2   \n",
              "\n",
              "                         4     5      6       7  8   \\\n",
              "0       Adult: >=18 yrs old  Both  Serum  >6.5 %  %   \n",
              "1  Adolescent:13-18 yrs old  Both  Serum  >6.5 %  %   \n",
              "\n",
              "                                            9   \\\n",
              "0  The specific age range is for 19-79 yrs old   \n",
              "1  The specific age range is for 12-18 yrs old   \n",
              "\n",
              "                                                  10          11  \n",
              "0  Lee, J. M., Wu, E. L., Tarini, B., Herman, W. ...  21195416.0  \n",
              "1  Lee, J. M., Wu, E. L., Tarini, B., Herman, W. ...  21195416.0  "
            ]
          },
          "execution_count": 1,
          "metadata": {},
          "output_type": "execute_result"
        }
      ],
      "source": [
        "import pandas as pd\n",
        "markerdb = pd.read_csv('marker_proteins.tsv', sep='\\t', header=None)\n",
        "markerdb.head(2)"
      ]
    },
    {
      "cell_type": "code",
      "execution_count": 2,
      "metadata": {
        "colab": {
          "base_uri": "https://localhost:8080/",
          "height": 112
        },
        "id": "Yc2wTMmxqiH_",
        "outputId": "eede3a9b-e782-4613-ed92-c694dd6ce481"
      },
      "outputs": [
        {
          "data": {
            "text/html": [
              "<div>\n",
              "<style scoped>\n",
              "    .dataframe tbody tr th:only-of-type {\n",
              "        vertical-align: middle;\n",
              "    }\n",
              "\n",
              "    .dataframe tbody tr th {\n",
              "        vertical-align: top;\n",
              "    }\n",
              "\n",
              "    .dataframe thead th {\n",
              "        text-align: right;\n",
              "    }\n",
              "</style>\n",
              "<table border=\"1\" class=\"dataframe\">\n",
              "  <thead>\n",
              "    <tr style=\"text-align: right;\">\n",
              "      <th></th>\n",
              "      <th>Patient</th>\n",
              "      <th>Imputation</th>\n",
              "      <th>marker_count</th>\n",
              "      <th>markers</th>\n",
              "    </tr>\n",
              "  </thead>\n",
              "  <tbody>\n",
              "    <tr>\n",
              "      <th>0</th>\n",
              "      <td>HS2_RE2</td>\n",
              "      <td>wo_Imputation</td>\n",
              "      <td>12</td>\n",
              "      <td>[P02649, P02647, P00450, P01024, P01008, P0279...</td>\n",
              "    </tr>\n",
              "    <tr>\n",
              "      <th>1</th>\n",
              "      <td>HS2_RE2</td>\n",
              "      <td>w_Imputation</td>\n",
              "      <td>13</td>\n",
              "      <td>[P02792, P61626, P02675, P02766, P01024, P0264...</td>\n",
              "    </tr>\n",
              "  </tbody>\n",
              "</table>\n",
              "</div>"
            ],
            "text/plain": [
              "   Patient     Imputation marker_count  \\\n",
              "0  HS2_RE2  wo_Imputation           12   \n",
              "1  HS2_RE2   w_Imputation           13   \n",
              "\n",
              "                                             markers  \n",
              "0  [P02649, P02647, P00450, P01024, P01008, P0279...  \n",
              "1  [P02792, P61626, P02675, P02766, P01024, P0264...  "
            ]
          },
          "execution_count": 2,
          "metadata": {},
          "output_type": "execute_result"
        }
      ],
      "source": [
        "\n",
        "import pandas as pd\n",
        "import ast\n",
        "\n",
        "# Specify the file path\n",
        "file_path = \"Imputed_vs_Non_Imputed_Protein_Markers.csv\"\n",
        "\n",
        "# Initialize lists to store the columns\n",
        "col1 = []\n",
        "col2 = []\n",
        "col3 = []\n",
        "list_column = []\n",
        "\n",
        "# Open and read the file manually\n",
        "with open(file_path, 'r') as file:\n",
        "    for line in file:\n",
        "        # Strip newline characters and split the line by comma\n",
        "        parts = line.strip().split(', ', 3)\n",
        "        if len(parts) == 4:\n",
        "            col1.append(parts[0])\n",
        "            col2.append(parts[1])\n",
        "            col3.append(parts[2])\n",
        "            list_column.append(ast.literal_eval(parts[3]))\n",
        "# Create a DataFrame from the lists\n",
        "patient_markers = pd.DataFrame({\n",
        "    'Patient': col1,\n",
        "    'Imputation': col2,\n",
        "    'marker_count': col3,\n",
        "    'markers': list_column\n",
        "})\n",
        "\n",
        "# Display the dataframe\n",
        "patient_markers.head(2)"
      ]
    },
    {
      "cell_type": "code",
      "execution_count": 30,
      "metadata": {},
      "outputs": [
        {
          "name": "stdout",
          "output_type": "stream",
          "text": [
            "Additional average biomarkers gained with imputation is 3.0\n",
            "30\n"
          ]
        }
      ],
      "source": [
        "#for every unique patient, find absolute difference between imputed and non-imputed marker_count and add to a running total \n",
        "#to find the total difference\n",
        "total_difference = 0\n",
        "for patient in patient_markers['Patient'].unique():\n",
        "    imputed = patient_markers[(patient_markers['Patient'] == patient) & (patient_markers['Imputation'] == 'w_Imputation')]['marker_count'].values[0]\n",
        "    non_imputed = patient_markers[(patient_markers['Patient'] == patient) & (patient_markers['Imputation'] == 'wo_Imputation')]['marker_count'].values[0]\n",
        "    difference = abs(int(imputed) -int(non_imputed))\n",
        "    total_difference += difference\n",
        "print(f\"Additional average biomarkers gained with imputation is {total_difference/10}\")\n",
        "print(total_difference)"
      ]
    },
    {
      "cell_type": "code",
      "execution_count": 29,
      "metadata": {},
      "outputs": [
        {
          "data": {
            "text/plain": [
              "(20, 18)"
            ]
          },
          "execution_count": 29,
          "metadata": {},
          "output_type": "execute_result"
        }
      ],
      "source": [
        "imputed_biomarkers = []\n",
        "non_imputed_biomarkers = []\n",
        "for patient in patient_markers['Patient'].unique():\n",
        "    imputed_biomarkers.append(patient_markers[(patient_markers['Patient'] == patient) & (patient_markers['Imputation'] == 'w_Imputation')][\"markers\"].values[0])\n",
        "    non_imputed_biomarkers.append(patient_markers[(patient_markers['Patient'] == patient) & (patient_markers['Imputation'] == 'wo_Imputation')][\"markers\"].values[0])\n",
        "\n",
        "#flatten the list of lists\n",
        "imputed_biomarkers = [item for sublist in imputed_biomarkers for item in sublist]\n",
        "non_imputed_biomarkers = [item for sublist in non_imputed_biomarkers for item in sublist]\n",
        "\n",
        "len(list(set(imputed_biomarkers))), len(list(set(non_imputed_biomarkers)))"
      ]
    },
    {
      "cell_type": "code",
      "execution_count": 3,
      "metadata": {
        "id": "2TKuNefqbuOa"
      },
      "outputs": [],
      "source": [
        "patient_map_dict = {'HS2_RE2': \"HS1\",\n",
        " 'HS3RE_sub1' : \"HS2\",\n",
        " 'HS4': \"HS3\",\n",
        " 'HS5' : \"HS4\",\n",
        " 'HS6': \"HS5\",\n",
        " 'HS7' : \"HS6\",\n",
        " 'HS8': \"HS7\",\n",
        " 'HS9' : \"HS8\",\n",
        " 'HS10': \"HS9\",\n",
        " 'HS11': \"HS10\"}\n",
        "\n",
        "patient_markers['Patient'] = patient_markers['Patient'].map(patient_map_dict)"
      ]
    },
    {
      "cell_type": "code",
      "execution_count": 4,
      "metadata": {
        "colab": {
          "base_uri": "https://localhost:8080/",
          "height": 35
        },
        "id": "-mhP-j5at066",
        "outputId": "c22f877e-7405-41eb-b247-d9fb70c37e6d"
      },
      "outputs": [
        {
          "data": {
            "text/plain": [
              "'Hemoglobin'"
            ]
          },
          "execution_count": 4,
          "metadata": {},
          "output_type": "execute_result"
        }
      ],
      "source": [
        "#read in json file\n",
        "file_path = \"MarkerDB_Proteins_with_Uniprot_Mapping.json\"\n",
        "\n",
        "import json\n",
        "with open(file_path) as f:\n",
        "    uniprot_mapping = json.load(f)\n",
        "\n",
        "uniprot_mapping\n",
        "\n",
        "#reverse keys and values\n",
        "uniprot_mapping = {v: k for k, v in uniprot_mapping.items()}\n",
        "uniprot_mapping['P68871']"
      ]
    },
    {
      "cell_type": "code",
      "execution_count": 5,
      "metadata": {
        "colab": {
          "base_uri": "https://localhost:8080/"
        },
        "id": "WHq-UiQYhSRh",
        "outputId": "100d69b4-2766-4d32-f58e-2ab298300ef8"
      },
      "outputs": [
        {
          "data": {
            "text/plain": [
              "['Inflammatory Bowel Disease',\n",
              " 'Non-specific Inflammation',\n",
              " 'Normal',\n",
              " 'Normal',\n",
              " 'Pregnancy',\n",
              " 'Normal',\n",
              " 'Viral Infection',\n",
              " 'Bacterial Infections',\n",
              " 'Diabetes Mellitus Type 2',\n",
              " 'Hypertension',\n",
              " 'Cardiovascular Disease',\n",
              " 'Obstructive sleep apnea']"
            ]
          },
          "execution_count": 5,
          "metadata": {},
          "output_type": "execute_result"
        }
      ],
      "source": [
        "markerdb.loc[markerdb[markerdb[1] == \"C-reactive protein\"].index][3].tolist()"
      ]
    },
    {
      "cell_type": "code",
      "execution_count": 6,
      "metadata": {
        "id": "whZdvRrwij7G"
      },
      "outputs": [],
      "source": [
        "markers_dict = {}\n",
        "\n",
        "for patient in patient_markers['Patient']:\n",
        "  #w_Imputation\n",
        "  imputed_markers = patient_markers.loc[(patient_markers['Patient'] == patient) & (patient_markers['Imputation'] == 'w_Imputation'), 'markers'].tolist()[0]\n",
        "  #wo_Imputation\n",
        "  non_imputed_markers = patient_markers.loc[(patient_markers['Patient'] == patient) & (patient_markers['Imputation'] == 'wo_Imputation'), 'markers'].tolist()[0]\n",
        "\n",
        "  #uniprot_mapping has uniprot ids as values and protein names as keys\n",
        "  #I want to cover the uniprot ids in imputed_markers and non_imputed_markers\n",
        "  # into protein names\n",
        "  imputed_protein_names = [uniprot_mapping[uniprot_id] for uniprot_id in imputed_markers]\n",
        "  non_imputed_protein_names = [uniprot_mapping[uniprot_id] for uniprot_id in non_imputed_markers]\n",
        "\n",
        "  imputed_disease = {m : markerdb.loc[markerdb[markerdb[1] == m].index][3].tolist() for m in imputed_protein_names}\n",
        "  non_imputed_disease = {m : markerdb.loc[markerdb[markerdb[1] == m].index][3].tolist() for m in non_imputed_protein_names}\n",
        "\n",
        "  #create a dataframe with three columns: protein, disease, w/woImputation\n",
        "  df = pd.DataFrame(columns=['Protein', 'Disease', 'Imputation'])\n",
        "  for protein in imputed_disease.keys():\n",
        "    for disease in imputed_disease[protein]:\n",
        "      df = pd.concat([df, pd.DataFrame({'Protein': [protein], 'Disease': [disease], 'Imputation': ['w_Imputation']})], ignore_index=True)\n",
        "  for protein in non_imputed_disease.keys():\n",
        "    for disease in non_imputed_disease[protein]:\n",
        "      df = pd.concat([df, pd.DataFrame({'Protein': [protein], 'Disease': [disease], 'Imputation': ['wo_Imputation']})], ignore_index=True)\n",
        "\n",
        "  #remove rows df[df == 'w_Imputation']['Protein'] if they are in rows df[df == 'wo_Imputation']['Protein']\n",
        "  #df = df.drop_duplicates(subset=[['Protein', 'Disease']], keep='last')\n",
        "  #for Imputation == 'w_Imputation', only keep protein,disease combinations that are not in Imputation =='wo_Imputation'\n",
        "  df = df.drop_duplicates(subset=['Protein', 'Disease'], keep='last')\n",
        "\n",
        "  # Define colors for each imputation type\n",
        "  color_map = {\n",
        "      'w_Imputation': 'orange',\n",
        "      'wo_Imputation': 'lightblue'\n",
        "  }\n",
        "\n",
        "  # Map colors to the DataFrame\n",
        "  df['Color'] = df['Imputation'].map(color_map)\n",
        "\n",
        "  #add to markers dictionary\n",
        "  markers_dict[patient] = df"
      ]
    },
    {
      "cell_type": "code",
      "execution_count": 51,
      "metadata": {},
      "outputs": [
        {
          "data": {
            "text/plain": [
              "116"
            ]
          },
          "execution_count": 51,
          "metadata": {},
          "output_type": "execute_result"
        }
      ],
      "source": [
        "#combine all dataframes in markers_dict into one dataframe\n",
        "combined_df = pd.concat(markers_dict.values(), ignore_index=True)\n",
        "combined_df.head(2)\n",
        "\n",
        "combined_df = combined_df[combined_df['Imputation'] == 'w_Imputation']\n",
        "#store ['protein', 'disease'] in a list by iterating through rows \n",
        "protein_disease = []\n",
        "for index, row in combined_df.iterrows():\n",
        "    protein_disease.append([row['Protein'], row['Disease']])\n",
        "\n",
        "len(protein_disease)"
      ]
    },
    {
      "cell_type": "code",
      "execution_count": null,
      "metadata": {
        "colab": {
          "base_uri": "https://localhost:8080/",
          "height": 1000
        },
        "id": "p0-NAmMJXCjs",
        "outputId": "614e3149-9b7a-43a8-b15b-4a52058f45df"
      },
      "outputs": [
        {
          "data": {
            "text/html": [
              "<html>\n",
              "<head><meta charset=\"utf-8\" /></head>\n",
              "<body>\n",
              "    <div>            <script src=\"https://cdnjs.cloudflare.com/ajax/libs/mathjax/2.7.5/MathJax.js?config=TeX-AMS-MML_SVG\"></script><script type=\"text/javascript\">if (window.MathJax && window.MathJax.Hub && window.MathJax.Hub.Config) {window.MathJax.Hub.Config({SVG: {font: \"STIX-Web\"}});}</script>                <script type=\"text/javascript\">window.PlotlyConfig = {MathJaxConfig: 'local'};</script>\n",
              "        <script charset=\"utf-8\" src=\"https://cdn.plot.ly/plotly-2.24.1.min.js\"></script>                <div id=\"6df4eb92-630d-49b5-acd7-59967f846518\" class=\"plotly-graph-div\" style=\"height:1500px; width:100%;\"></div>            <script type=\"text/javascript\">                                    window.PLOTLYENV=window.PLOTLYENV || {};                                    if (document.getElementById(\"6df4eb92-630d-49b5-acd7-59967f846518\")) {                    Plotly.newPlot(                        \"6df4eb92-630d-49b5-acd7-59967f846518\",                        [{\"link\":{\"color\":[\"orange\",\"orange\",\"lightblue\",\"lightblue\",\"lightblue\",\"lightblue\",\"lightblue\",\"lightblue\",\"lightblue\",\"lightblue\",\"lightblue\",\"lightblue\",\"lightblue\",\"lightblue\",\"lightblue\",\"lightblue\",\"lightblue\",\"lightblue\",\"lightblue\",\"lightblue\",\"lightblue\",\"lightblue\",\"lightblue\",\"lightblue\",\"lightblue\",\"lightblue\",\"lightblue\",\"lightblue\",\"lightblue\",\"lightblue\",\"lightblue\",\"lightblue\",\"lightblue\"],\"source\":[0,0,1,1,2,2,3,3,4,4,4,4,4,4,4,5,5,6,6,7,7,7,8,8,9,9,10,10,10,11,11,12,12],\"target\":[13,14,15,13,16,13,17,13,18,19,20,21,22,13,23,24,13,25,13,23,26,13,27,13,13,28,29,13,30,31,13,32,13],\"value\":[1,1,1,1,1,1,1,1,1,1,1,1,1,1,1,1,1,1,1,1,1,1,1,1,1,1,1,1,1,1,1,1,1]},\"node\":{\"label\":[\"Lysozyme C\",\"Apolipoprotein E\",\"Apolipoprotein A1\",\"Ceruloplasmin\",\"Complement C3\",\"Antithrombin\",\"Ferritin\",\"Transthyretin\",\"Apolipoprotein B-100\",\"Hemoglobin\",\"Von Willebrand Factor\",\"Calprotectin\",\"Fibrinogen\",\"Normal\",\"Pulmonary Sarcoidosis\",\"Alzheimer's Disease\",\"Coronary Artery Disease\",\"Wilson's Disease\",\"Acute Glomerulonephritis\",\"Membranoproliferative Glomerulonephritis\",\"Immune Complex Disease\",\"Septic Shock\",\"Systemic Lupus Erythematosus\",\"Chronic Kidney Disease\",\"Antithrombin III Deficiency\",\"Iron Deficiency\",\"Malnutrition\",\"Cardiovascular Disease\",\"Anemia\",\"Von Willebrand Disease Type 3\",\"Von Willebrand Disease Type 1\",\"Inflammatory Bowel Disease\",\"Bleeding Disorder\"],\"line\":{\"color\":\"black\",\"width\":0.5},\"pad\":150,\"thickness\":20},\"type\":\"sankey\",\"domain\":{\"x\":[0.0,0.45],\"y\":[0.88,1.0]}},{\"link\":{\"color\":[\"orange\",\"orange\",\"orange\",\"orange\",\"orange\",\"orange\",\"orange\",\"orange\",\"orange\",\"lightblue\",\"lightblue\",\"lightblue\",\"lightblue\",\"lightblue\",\"lightblue\",\"lightblue\",\"lightblue\",\"lightblue\",\"lightblue\",\"lightblue\",\"lightblue\",\"lightblue\",\"lightblue\",\"lightblue\",\"lightblue\",\"lightblue\",\"lightblue\",\"lightblue\",\"lightblue\",\"lightblue\",\"lightblue\",\"lightblue\",\"lightblue\",\"lightblue\",\"lightblue\",\"lightblue\",\"lightblue\",\"lightblue\",\"lightblue\",\"lightblue\",\"lightblue\",\"lightblue\"],\"source\":[0,0,1,1,1,1,1,1,1,2,2,2,2,2,2,2,3,3,4,4,5,5,5,6,6,7,7,7,8,8,9,9,10,10,11,11,12,12,13,13,14,14],\"target\":[15,16,17,18,19,20,15,21,22,23,24,25,26,27,15,28,29,15,30,15,28,31,15,15,32,33,15,34,35,15,36,15,37,15,38,15,39,15,15,16,40,15],\"value\":[1,1,1,1,1,1,1,1,1,1,1,1,1,1,1,1,1,1,1,1,1,1,1,1,1,1,1,1,1,1,1,1,1,1,1,1,1,1,1,1,1,1]},\"node\":{\"label\":[\"Lysozyme C\",\"Bone specific alkaline phosphatase\",\"Complement C3\",\"Antithrombin\",\"Ferritin\",\"Transthyretin\",\"Hemoglobin\",\"Von Willebrand Factor\",\"Calprotectin\",\"Fibrinogen\",\"Apolipoprotein E\",\"Apolipoprotein A1\",\"Ceruloplasmin\",\"Interleukin-2 receptor subunit alpha\",\"Apolipoprotein B-100\",\"Normal\",\"Pulmonary Sarcoidosis\",\"Bone Metastases\",\"Femoral Neck Osteoporsis\",\"L1 4 Spine Osteoporosis\",\"L2 4 Spine Osteoporosis\",\"Osteomalacia\",\"Paget's Disease Of Bone\",\"Acute Glomerulonephritis\",\"Membranoproliferative Glomerulonephritis\",\"Immune Complex Disease\",\"Septic Shock\",\"Systemic Lupus Erythematosus\",\"Chronic Kidney Disease\",\"Antithrombin III Deficiency\",\"Iron Deficiency\",\"Malnutrition\",\"Anemia\",\"Von Willebrand Disease Type 3\",\"Von Willebrand Disease Type 1\",\"Inflammatory Bowel Disease\",\"Bleeding Disorder\",\"Alzheimer's Disease\",\"Coronary Artery Disease\",\"Wilson's Disease\",\"Cardiovascular Disease\"],\"line\":{\"color\":\"black\",\"width\":0.5},\"pad\":150,\"thickness\":20},\"type\":\"sankey\",\"domain\":{\"x\":[0.55,1.0],\"y\":[0.88,1.0]}},{\"link\":{\"color\":[\"orange\",\"orange\",\"orange\",\"orange\",\"orange\",\"orange\",\"orange\",\"orange\",\"orange\",\"orange\",\"orange\",\"orange\",\"orange\",\"orange\",\"orange\",\"orange\",\"orange\",\"orange\",\"orange\",\"orange\",\"orange\",\"orange\",\"lightblue\",\"lightblue\",\"lightblue\",\"lightblue\",\"lightblue\",\"lightblue\",\"lightblue\",\"lightblue\",\"lightblue\",\"lightblue\",\"lightblue\",\"lightblue\",\"lightblue\",\"lightblue\",\"lightblue\",\"lightblue\",\"lightblue\",\"lightblue\",\"lightblue\",\"lightblue\",\"lightblue\",\"lightblue\",\"lightblue\",\"lightblue\",\"lightblue\",\"lightblue\",\"lightblue\",\"lightblue\",\"lightblue\",\"lightblue\",\"lightblue\",\"lightblue\",\"lightblue\",\"lightblue\",\"lightblue\",\"lightblue\",\"lightblue\",\"lightblue\",\"lightblue\",\"lightblue\",\"lightblue\",\"lightblue\"],\"source\":[0,0,1,1,2,2,2,2,2,2,2,3,3,4,4,4,5,5,5,5,5,5,6,6,6,6,6,6,6,7,7,8,8,8,9,9,9,10,10,10,10,10,10,10,10,10,10,11,11,12,12,12,13,13,14,14,15,15,16,16,17,17,18,18],\"target\":[19,20,20,21,22,23,24,25,20,26,27,20,21,28,29,20,30,31,32,33,34,20,35,36,37,38,39,20,40,41,20,40,42,20,43,20,21,44,45,46,20,47,48,49,50,51,52,20,53,54,20,55,44,20,56,20,57,20,58,20,59,20,51,20],\"value\":[1,1,1,1,1,1,1,1,1,1,1,1,1,1,1,1,1,1,1,1,1,1,1,1,1,1,1,1,1,1,1,1,1,1,1,1,1,1,1,1,1,1,1,1,1,1,1,1,1,1,1,1,1,1,1,1,1,1,1,1,1,1,1,1]},\"node\":{\"label\":[\"Ferritin\",\"Lysozyme C\",\"Bone specific alkaline phosphatase\",\"Interleukin-2 receptor subunit alpha\",\"Muellerian-inhibiting factor\",\"IgG\",\"Complement C3\",\"Antithrombin\",\"Transthyretin\",\"Angiotensin-converting enzyme\",\"C-reactive protein\",\"Hemoglobin\",\"Von Willebrand Factor\",\"Calprotectin\",\"Fibrinogen\",\"Apolipoprotein E\",\"Apolipoprotein A1\",\"Ceruloplasmin\",\"Apolipoprotein B-100\",\"Iron Deficiency\",\"Normal\",\"Pulmonary Sarcoidosis\",\"Bone Metastases\",\"Femoral Neck Osteoporsis\",\"L1 4 Spine Osteoporosis\",\"L2 4 Spine Osteoporosis\",\"Osteomalacia\",\"Paget's Disease Of Bone\",\"Polycystic Ovary Syndrome\",\"Controlled Ovarian Stimulation\",\"Chronic Infections\",\"Autoimmune Disease\",\"Cirrhosis\",\"Multiple Myeloma\",\"Autoimmune Hepatitis\",\"Acute Glomerulonephritis\",\"Membranoproliferative Glomerulonephritis\",\"Immune Complex Disease\",\"Septic Shock\",\"Systemic Lupus Erythematosus\",\"Chronic Kidney Disease\",\"Antithrombin III Deficiency\",\"Malnutrition\",\"Sarcoidosis\",\"Inflammatory Bowel Disease\",\"Non-specific Inflammation\",\"Pregnancy\",\"Viral Infection\",\"Bacterial Infections\",\"Diabetes Mellitus Type 2\",\"Hypertension\",\"Cardiovascular Disease\",\"Obstructive sleep apnea\",\"Anemia\",\"Von Willebrand Disease Type 3\",\"Von Willebrand Disease Type 1\",\"Bleeding Disorder\",\"Alzheimer's Disease\",\"Coronary Artery Disease\",\"Wilson's Disease\"],\"line\":{\"color\":\"black\",\"width\":0.5},\"pad\":150,\"thickness\":20},\"type\":\"sankey\",\"domain\":{\"x\":[0.0,0.45],\"y\":[0.66,0.78]}},{\"link\":{\"color\":[\"orange\",\"orange\",\"orange\",\"orange\",\"orange\",\"lightblue\",\"lightblue\",\"lightblue\",\"lightblue\",\"lightblue\",\"lightblue\",\"lightblue\",\"lightblue\",\"lightblue\",\"lightblue\",\"lightblue\",\"lightblue\",\"lightblue\",\"lightblue\",\"lightblue\",\"lightblue\",\"lightblue\",\"lightblue\",\"lightblue\",\"lightblue\",\"lightblue\",\"lightblue\",\"lightblue\",\"lightblue\",\"lightblue\",\"lightblue\",\"lightblue\",\"lightblue\",\"lightblue\",\"lightblue\",\"lightblue\",\"lightblue\",\"lightblue\",\"lightblue\",\"lightblue\",\"lightblue\",\"lightblue\",\"lightblue\",\"lightblue\",\"lightblue\",\"lightblue\",\"lightblue\",\"lightblue\",\"lightblue\",\"lightblue\",\"lightblue\",\"lightblue\",\"lightblue\",\"lightblue\",\"lightblue\"],\"source\":[0,0,1,1,1,2,2,2,2,2,2,2,3,3,4,4,4,5,5,5,5,5,5,5,5,5,5,6,6,7,7,7,8,8,9,9,10,10,11,11,12,12,13,13,14,14,15,15,16,16,16,16,16,16,16],\"target\":[17,18,19,18,20,21,22,23,24,25,18,26,27,18,26,28,18,29,30,31,18,32,33,34,35,36,37,18,38,39,18,40,29,18,41,18,42,18,43,18,44,18,18,20,36,18,18,20,45,46,47,48,18,49,50],\"value\":[1,1,1,1,1,1,1,1,1,1,1,1,1,1,1,1,1,1,1,1,1,1,1,1,1,1,1,1,1,1,1,1,1,1,1,1,1,1,1,1,1,1,1,1,1,1,1,1,1,1,1,1,1,1,1]},\"node\":{\"label\":[\"Ferritin\",\"Angiotensin-converting enzyme\",\"Complement C3\",\"Antithrombin\",\"Transthyretin\",\"C-reactive protein\",\"Hemoglobin\",\"Von Willebrand Factor\",\"Calprotectin\",\"Fibrinogen\",\"Apolipoprotein E\",\"Apolipoprotein A1\",\"Ceruloplasmin\",\"Interleukin-2 receptor subunit alpha\",\"Apolipoprotein B-100\",\"Lysozyme C\",\"Bone specific alkaline phosphatase\",\"Iron Deficiency\",\"Normal\",\"Sarcoidosis\",\"Pulmonary Sarcoidosis\",\"Acute Glomerulonephritis\",\"Membranoproliferative Glomerulonephritis\",\"Immune Complex Disease\",\"Septic Shock\",\"Systemic Lupus Erythematosus\",\"Chronic Kidney Disease\",\"Antithrombin III Deficiency\",\"Malnutrition\",\"Inflammatory Bowel Disease\",\"Non-specific Inflammation\",\"Pregnancy\",\"Viral Infection\",\"Bacterial Infections\",\"Diabetes Mellitus Type 2\",\"Hypertension\",\"Cardiovascular Disease\",\"Obstructive sleep apnea\",\"Anemia\",\"Von Willebrand Disease Type 3\",\"Von Willebrand Disease Type 1\",\"Bleeding Disorder\",\"Alzheimer's Disease\",\"Coronary Artery Disease\",\"Wilson's Disease\",\"Bone Metastases\",\"Femoral Neck Osteoporsis\",\"L1 4 Spine Osteoporosis\",\"L2 4 Spine Osteoporosis\",\"Osteomalacia\",\"Paget's Disease Of Bone\"],\"line\":{\"color\":\"black\",\"width\":0.5},\"pad\":150,\"thickness\":20},\"type\":\"sankey\",\"domain\":{\"x\":[0.55,1.0],\"y\":[0.66,0.78]}},{\"link\":{\"color\":[\"orange\",\"orange\",\"orange\",\"orange\",\"lightblue\",\"lightblue\",\"lightblue\",\"lightblue\",\"lightblue\",\"lightblue\",\"lightblue\",\"lightblue\",\"lightblue\",\"lightblue\",\"lightblue\",\"lightblue\",\"lightblue\",\"lightblue\",\"lightblue\",\"lightblue\",\"lightblue\",\"lightblue\",\"lightblue\",\"lightblue\",\"lightblue\",\"lightblue\",\"lightblue\",\"lightblue\",\"lightblue\",\"lightblue\",\"lightblue\",\"lightblue\",\"lightblue\",\"lightblue\",\"lightblue\",\"lightblue\",\"lightblue\",\"lightblue\",\"lightblue\",\"lightblue\",\"lightblue\",\"lightblue\",\"lightblue\",\"lightblue\",\"lightblue\",\"lightblue\"],\"source\":[0,0,1,1,2,2,2,2,2,2,2,3,3,4,4,4,5,5,5,5,5,5,5,5,5,5,6,6,6,7,7,8,8,8,9,9,10,10,11,11,12,12,13,13,14,14],\"target\":[15,16,15,16,17,18,19,20,21,15,22,23,15,22,24,15,25,26,27,15,28,29,30,31,32,33,34,35,15,15,36,37,15,38,25,15,39,15,40,15,41,15,42,15,32,15],\"value\":[1,1,1,1,1,1,1,1,1,1,1,1,1,1,1,1,1,1,1,1,1,1,1,1,1,1,1,1,1,1,1,1,1,1,1,1,1,1,1,1,1,1,1,1,1,1]},\"node\":{\"label\":[\"Lysozyme C\",\"Interleukin-2 receptor subunit alpha\",\"Complement C3\",\"Antithrombin\",\"Transthyretin\",\"C-reactive protein\",\"Human growth hormone\",\"Hemoglobin\",\"Von Willebrand Factor\",\"Calprotectin\",\"Fibrinogen\",\"Apolipoprotein E\",\"Apolipoprotein A1\",\"Ceruloplasmin\",\"Apolipoprotein B-100\",\"Normal\",\"Pulmonary Sarcoidosis\",\"Acute Glomerulonephritis\",\"Membranoproliferative Glomerulonephritis\",\"Immune Complex Disease\",\"Septic Shock\",\"Systemic Lupus Erythematosus\",\"Chronic Kidney Disease\",\"Antithrombin III Deficiency\",\"Malnutrition\",\"Inflammatory Bowel Disease\",\"Non-specific Inflammation\",\"Pregnancy\",\"Viral Infection\",\"Bacterial Infections\",\"Diabetes Mellitus Type 2\",\"Hypertension\",\"Cardiovascular Disease\",\"Obstructive sleep apnea\",\"Growth Hormone Deficiency\",\"Acromegaly\",\"Anemia\",\"Von Willebrand Disease Type 3\",\"Von Willebrand Disease Type 1\",\"Bleeding Disorder\",\"Alzheimer's Disease\",\"Coronary Artery Disease\",\"Wilson's Disease\"],\"line\":{\"color\":\"black\",\"width\":0.5},\"pad\":150,\"thickness\":20},\"type\":\"sankey\",\"domain\":{\"x\":[0.0,0.45],\"y\":[0.44,0.56]}},{\"link\":{\"color\":[\"orange\",\"orange\",\"orange\",\"orange\",\"orange\",\"orange\",\"orange\",\"orange\",\"orange\",\"orange\",\"orange\",\"orange\",\"lightblue\",\"lightblue\",\"lightblue\",\"lightblue\",\"lightblue\",\"lightblue\",\"lightblue\",\"lightblue\",\"lightblue\",\"lightblue\",\"lightblue\",\"lightblue\",\"lightblue\",\"lightblue\",\"lightblue\",\"lightblue\",\"lightblue\",\"lightblue\",\"lightblue\",\"lightblue\",\"lightblue\",\"lightblue\",\"lightblue\",\"lightblue\",\"lightblue\",\"lightblue\",\"lightblue\",\"lightblue\",\"lightblue\",\"lightblue\",\"lightblue\",\"lightblue\",\"lightblue\"],\"source\":[0,0,0,0,0,0,0,1,1,1,2,2,3,3,3,3,3,3,3,4,4,5,5,6,6,6,7,7,8,8,8,9,9,10,10,11,11,12,12,13,13,14,14,15,15],\"target\":[16,17,18,19,20,21,22,23,20,24,20,24,25,26,27,28,29,20,30,31,20,32,20,30,33,20,20,34,35,20,36,37,20,38,20,39,20,40,20,41,20,42,20,20,24],\"value\":[1,1,1,1,1,1,1,1,1,1,1,1,1,1,1,1,1,1,1,1,1,1,1,1,1,1,1,1,1,1,1,1,1,1,1,1,1,1,1,1,1,1,1,1,1]},\"node\":{\"label\":[\"Bone specific alkaline phosphatase\",\"Angiotensin-converting enzyme\",\"Interleukin-2 receptor subunit alpha\",\"Complement C3\",\"Antithrombin\",\"Ferritin\",\"Transthyretin\",\"Hemoglobin\",\"Von Willebrand Factor\",\"Calprotectin\",\"Fibrinogen\",\"Apolipoprotein E\",\"Apolipoprotein A1\",\"Ceruloplasmin\",\"Apolipoprotein B-100\",\"Lysozyme C\",\"Bone Metastases\",\"Femoral Neck Osteoporsis\",\"L1 4 Spine Osteoporosis\",\"L2 4 Spine Osteoporosis\",\"Normal\",\"Osteomalacia\",\"Paget's Disease Of Bone\",\"Sarcoidosis\",\"Pulmonary Sarcoidosis\",\"Acute Glomerulonephritis\",\"Membranoproliferative Glomerulonephritis\",\"Immune Complex Disease\",\"Septic Shock\",\"Systemic Lupus Erythematosus\",\"Chronic Kidney Disease\",\"Antithrombin III Deficiency\",\"Iron Deficiency\",\"Malnutrition\",\"Anemia\",\"Von Willebrand Disease Type 3\",\"Von Willebrand Disease Type 1\",\"Inflammatory Bowel Disease\",\"Bleeding Disorder\",\"Alzheimer's Disease\",\"Coronary Artery Disease\",\"Wilson's Disease\",\"Cardiovascular Disease\"],\"line\":{\"color\":\"black\",\"width\":0.5},\"pad\":150,\"thickness\":20},\"type\":\"sankey\",\"domain\":{\"x\":[0.55,1.0],\"y\":[0.44,0.56]}},{\"link\":{\"color\":[\"orange\",\"orange\",\"orange\",\"orange\",\"orange\",\"orange\",\"orange\",\"orange\",\"orange\",\"orange\",\"orange\",\"orange\",\"orange\",\"orange\",\"orange\",\"orange\",\"orange\",\"orange\",\"orange\",\"orange\",\"orange\",\"orange\",\"lightblue\",\"lightblue\",\"lightblue\",\"lightblue\",\"lightblue\",\"lightblue\",\"lightblue\",\"lightblue\",\"lightblue\",\"lightblue\",\"lightblue\",\"lightblue\",\"lightblue\",\"lightblue\",\"lightblue\",\"lightblue\",\"lightblue\",\"lightblue\",\"lightblue\",\"lightblue\",\"lightblue\",\"lightblue\",\"lightblue\",\"lightblue\",\"lightblue\",\"lightblue\",\"lightblue\",\"lightblue\",\"lightblue\",\"lightblue\",\"lightblue\",\"lightblue\",\"lightblue\",\"lightblue\"],\"source\":[0,0,1,1,1,1,1,1,1,1,1,1,2,2,3,3,4,4,4,4,4,4,5,5,5,5,5,5,5,6,6,7,7,7,8,8,8,9,9,10,10,11,11,12,12,13,13,14,14,15,15,15,15,15,15,15],\"target\":[16,17,18,19,20,16,21,22,23,24,25,26,16,27,16,17,28,29,30,31,32,16,33,34,35,36,37,16,38,39,16,38,40,16,41,16,42,18,16,43,16,44,16,45,16,46,16,25,16,47,48,49,50,16,51,52],\"value\":[1,1,1,1,1,1,1,1,1,1,1,1,1,1,1,1,1,1,1,1,1,1,1,1,1,1,1,1,1,1,1,1,1,1,1,1,1,1,1,1,1,1,1,1,1,1,1,1,1,1,1,1,1,1,1,1]},\"node\":{\"label\":[\"Lysozyme C\",\"C-reactive protein\",\"Hemoglobin\",\"Interleukin-2 receptor subunit alpha\",\"IgG\",\"Complement C3\",\"Antithrombin\",\"Transthyretin\",\"Von Willebrand Factor\",\"Calprotectin\",\"Fibrinogen\",\"Apolipoprotein E\",\"Apolipoprotein A1\",\"Ceruloplasmin\",\"Apolipoprotein B-100\",\"Bone specific alkaline phosphatase\",\"Normal\",\"Pulmonary Sarcoidosis\",\"Inflammatory Bowel Disease\",\"Non-specific Inflammation\",\"Pregnancy\",\"Viral Infection\",\"Bacterial Infections\",\"Diabetes Mellitus Type 2\",\"Hypertension\",\"Cardiovascular Disease\",\"Obstructive sleep apnea\",\"Anemia\",\"Chronic Infections\",\"Autoimmune Disease\",\"Cirrhosis\",\"Multiple Myeloma\",\"Autoimmune Hepatitis\",\"Acute Glomerulonephritis\",\"Membranoproliferative Glomerulonephritis\",\"Immune Complex Disease\",\"Septic Shock\",\"Systemic Lupus Erythematosus\",\"Chronic Kidney Disease\",\"Antithrombin III Deficiency\",\"Malnutrition\",\"Von Willebrand Disease Type 3\",\"Von Willebrand Disease Type 1\",\"Bleeding Disorder\",\"Alzheimer's Disease\",\"Coronary Artery Disease\",\"Wilson's Disease\",\"Bone Metastases\",\"Femoral Neck Osteoporsis\",\"L1 4 Spine Osteoporosis\",\"L2 4 Spine Osteoporosis\",\"Osteomalacia\",\"Paget's Disease Of Bone\"],\"line\":{\"color\":\"black\",\"width\":0.5},\"pad\":150,\"thickness\":20},\"type\":\"sankey\",\"domain\":{\"x\":[0.0,0.45],\"y\":[0.22,0.33999999999999997]}},{\"link\":{\"color\":[\"orange\",\"orange\",\"orange\",\"orange\",\"orange\",\"orange\",\"orange\",\"orange\",\"orange\",\"orange\",\"orange\",\"orange\",\"orange\",\"orange\",\"orange\",\"lightblue\",\"lightblue\",\"lightblue\",\"lightblue\",\"lightblue\",\"lightblue\",\"lightblue\",\"lightblue\",\"lightblue\",\"lightblue\",\"lightblue\",\"lightblue\",\"lightblue\",\"lightblue\",\"lightblue\",\"lightblue\",\"lightblue\",\"lightblue\",\"lightblue\",\"lightblue\",\"lightblue\",\"lightblue\",\"lightblue\",\"lightblue\",\"lightblue\",\"lightblue\",\"lightblue\",\"lightblue\",\"lightblue\",\"lightblue\",\"lightblue\"],\"source\":[0,0,0,1,1,2,2,2,2,2,2,2,2,2,2,3,3,3,3,3,3,3,4,4,5,5,6,6,6,7,7,8,8,8,9,9,10,10,11,11,12,12,13,13,14,14],\"target\":[15,16,17,18,16,19,20,21,16,22,23,24,25,26,27,28,29,30,31,32,16,33,34,16,35,16,33,36,16,16,37,38,16,39,19,16,40,16,41,16,42,16,16,17,26,16],\"value\":[1,1,1,1,1,1,1,1,1,1,1,1,1,1,1,1,1,1,1,1,1,1,1,1,1,1,1,1,1,1,1,1,1,1,1,1,1,1,1,1,1,1,1,1,1,1]},\"node\":{\"label\":[\"Angiotensin-converting enzyme\",\"Fibrinogen\",\"C-reactive protein\",\"Complement C3\",\"Antithrombin\",\"Ferritin\",\"Transthyretin\",\"Hemoglobin\",\"Von Willebrand Factor\",\"Calprotectin\",\"Apolipoprotein E\",\"Apolipoprotein A1\",\"Ceruloplasmin\",\"Interleukin-2 receptor subunit alpha\",\"Apolipoprotein B-100\",\"Sarcoidosis\",\"Normal\",\"Pulmonary Sarcoidosis\",\"Bleeding Disorder\",\"Inflammatory Bowel Disease\",\"Non-specific Inflammation\",\"Pregnancy\",\"Viral Infection\",\"Bacterial Infections\",\"Diabetes Mellitus Type 2\",\"Hypertension\",\"Cardiovascular Disease\",\"Obstructive sleep apnea\",\"Acute Glomerulonephritis\",\"Membranoproliferative Glomerulonephritis\",\"Immune Complex Disease\",\"Septic Shock\",\"Systemic Lupus Erythematosus\",\"Chronic Kidney Disease\",\"Antithrombin III Deficiency\",\"Iron Deficiency\",\"Malnutrition\",\"Anemia\",\"Von Willebrand Disease Type 3\",\"Von Willebrand Disease Type 1\",\"Alzheimer's Disease\",\"Coronary Artery Disease\",\"Wilson's Disease\"],\"line\":{\"color\":\"black\",\"width\":0.5},\"pad\":150,\"thickness\":20},\"type\":\"sankey\",\"domain\":{\"x\":[0.55,1.0],\"y\":[0.22,0.33999999999999997]}},{\"link\":{\"color\":[\"orange\",\"orange\",\"orange\",\"orange\",\"orange\",\"orange\",\"orange\",\"orange\",\"orange\",\"orange\",\"orange\",\"orange\",\"orange\",\"orange\",\"orange\",\"orange\",\"orange\",\"orange\",\"orange\",\"orange\",\"orange\",\"orange\",\"lightblue\",\"lightblue\",\"lightblue\",\"lightblue\",\"lightblue\",\"lightblue\",\"lightblue\",\"lightblue\",\"lightblue\",\"lightblue\",\"lightblue\",\"lightblue\",\"lightblue\",\"lightblue\",\"lightblue\",\"lightblue\",\"lightblue\",\"lightblue\",\"lightblue\",\"lightblue\",\"lightblue\",\"lightblue\",\"lightblue\",\"lightblue\",\"lightblue\",\"lightblue\",\"lightblue\",\"lightblue\",\"lightblue\"],\"source\":[0,0,1,1,2,2,2,2,2,2,2,2,2,2,3,3,4,4,4,4,4,4,5,5,5,5,5,5,5,6,6,7,7,7,8,8,9,9,9,10,10,11,11,12,12,13,13,14,14,15,15],\"target\":[16,17,17,18,19,20,21,17,22,23,24,25,26,27,17,18,28,29,30,31,32,17,33,34,35,36,37,17,38,39,17,38,40,17,17,41,42,17,43,19,17,44,17,45,17,46,17,47,17,26,17],\"value\":[1,1,1,1,1,1,1,1,1,1,1,1,1,1,1,1,1,1,1,1,1,1,1,1,1,1,1,1,1,1,1,1,1,1,1,1,1,1,1,1,1,1,1,1,1,1,1,1,1,1,1]},\"node\":{\"label\":[\"Ferritin\",\"Lysozyme C\",\"C-reactive protein\",\"Interleukin-2 receptor subunit alpha\",\"IgG\",\"Complement C3\",\"Antithrombin\",\"Transthyretin\",\"Hemoglobin\",\"Von Willebrand Factor\",\"Calprotectin\",\"Fibrinogen\",\"Apolipoprotein E\",\"Apolipoprotein A1\",\"Ceruloplasmin\",\"Apolipoprotein B-100\",\"Iron Deficiency\",\"Normal\",\"Pulmonary Sarcoidosis\",\"Inflammatory Bowel Disease\",\"Non-specific Inflammation\",\"Pregnancy\",\"Viral Infection\",\"Bacterial Infections\",\"Diabetes Mellitus Type 2\",\"Hypertension\",\"Cardiovascular Disease\",\"Obstructive sleep apnea\",\"Chronic Infections\",\"Autoimmune Disease\",\"Cirrhosis\",\"Multiple Myeloma\",\"Autoimmune Hepatitis\",\"Acute Glomerulonephritis\",\"Membranoproliferative Glomerulonephritis\",\"Immune Complex Disease\",\"Septic Shock\",\"Systemic Lupus Erythematosus\",\"Chronic Kidney Disease\",\"Antithrombin III Deficiency\",\"Malnutrition\",\"Anemia\",\"Von Willebrand Disease Type 3\",\"Von Willebrand Disease Type 1\",\"Bleeding Disorder\",\"Alzheimer's Disease\",\"Coronary Artery Disease\",\"Wilson's Disease\"],\"line\":{\"color\":\"black\",\"width\":0.5},\"pad\":150,\"thickness\":20},\"type\":\"sankey\",\"domain\":{\"x\":[0.0,0.45],\"y\":[0.0,0.12]}},{\"link\":{\"color\":[\"orange\",\"orange\",\"orange\",\"lightblue\",\"lightblue\",\"lightblue\",\"lightblue\",\"lightblue\",\"lightblue\",\"lightblue\",\"lightblue\",\"lightblue\",\"lightblue\",\"lightblue\",\"lightblue\",\"lightblue\",\"lightblue\",\"lightblue\",\"lightblue\",\"lightblue\",\"lightblue\",\"lightblue\",\"lightblue\",\"lightblue\",\"lightblue\",\"lightblue\",\"lightblue\",\"lightblue\",\"lightblue\",\"lightblue\",\"lightblue\",\"lightblue\",\"lightblue\",\"lightblue\",\"lightblue\",\"lightblue\",\"lightblue\",\"lightblue\",\"lightblue\",\"lightblue\",\"lightblue\",\"lightblue\",\"lightblue\",\"lightblue\",\"lightblue\",\"lightblue\"],\"source\":[0,0,0,1,1,1,1,1,1,1,2,2,3,3,4,4,4,5,5,5,5,5,5,5,5,5,5,6,6,7,7,7,8,8,9,9,10,10,11,11,12,12,13,13,14,14],\"target\":[15,16,17,18,19,20,21,22,16,23,24,16,25,16,23,26,16,27,28,29,16,30,31,32,33,34,35,16,36,37,16,38,27,16,39,16,40,16,41,16,42,16,34,16,16,17],\"value\":[1,1,1,1,1,1,1,1,1,1,1,1,1,1,1,1,1,1,1,1,1,1,1,1,1,1,1,1,1,1,1,1,1,1,1,1,1,1,1,1,1,1,1,1,1,1]},\"node\":{\"label\":[\"Angiotensin-converting enzyme\",\"Complement C3\",\"Antithrombin\",\"Ferritin\",\"Transthyretin\",\"C-reactive protein\",\"Hemoglobin\",\"Von Willebrand Factor\",\"Calprotectin\",\"Fibrinogen\",\"Apolipoprotein E\",\"Apolipoprotein A1\",\"Ceruloplasmin\",\"Apolipoprotein B-100\",\"Lysozyme C\",\"Sarcoidosis\",\"Normal\",\"Pulmonary Sarcoidosis\",\"Acute Glomerulonephritis\",\"Membranoproliferative Glomerulonephritis\",\"Immune Complex Disease\",\"Septic Shock\",\"Systemic Lupus Erythematosus\",\"Chronic Kidney Disease\",\"Antithrombin III Deficiency\",\"Iron Deficiency\",\"Malnutrition\",\"Inflammatory Bowel Disease\",\"Non-specific Inflammation\",\"Pregnancy\",\"Viral Infection\",\"Bacterial Infections\",\"Diabetes Mellitus Type 2\",\"Hypertension\",\"Cardiovascular Disease\",\"Obstructive sleep apnea\",\"Anemia\",\"Von Willebrand Disease Type 3\",\"Von Willebrand Disease Type 1\",\"Bleeding Disorder\",\"Alzheimer's Disease\",\"Coronary Artery Disease\",\"Wilson's Disease\"],\"line\":{\"color\":\"black\",\"width\":0.5},\"pad\":150,\"thickness\":20},\"type\":\"sankey\",\"domain\":{\"x\":[0.55,1.0],\"y\":[0.0,0.12]}}],                        {\"template\":{\"data\":{\"histogram2dcontour\":[{\"type\":\"histogram2dcontour\",\"colorbar\":{\"outlinewidth\":0,\"ticks\":\"\"},\"colorscale\":[[0.0,\"#0d0887\"],[0.1111111111111111,\"#46039f\"],[0.2222222222222222,\"#7201a8\"],[0.3333333333333333,\"#9c179e\"],[0.4444444444444444,\"#bd3786\"],[0.5555555555555556,\"#d8576b\"],[0.6666666666666666,\"#ed7953\"],[0.7777777777777778,\"#fb9f3a\"],[0.8888888888888888,\"#fdca26\"],[1.0,\"#f0f921\"]]}],\"choropleth\":[{\"type\":\"choropleth\",\"colorbar\":{\"outlinewidth\":0,\"ticks\":\"\"}}],\"histogram2d\":[{\"type\":\"histogram2d\",\"colorbar\":{\"outlinewidth\":0,\"ticks\":\"\"},\"colorscale\":[[0.0,\"#0d0887\"],[0.1111111111111111,\"#46039f\"],[0.2222222222222222,\"#7201a8\"],[0.3333333333333333,\"#9c179e\"],[0.4444444444444444,\"#bd3786\"],[0.5555555555555556,\"#d8576b\"],[0.6666666666666666,\"#ed7953\"],[0.7777777777777778,\"#fb9f3a\"],[0.8888888888888888,\"#fdca26\"],[1.0,\"#f0f921\"]]}],\"heatmap\":[{\"type\":\"heatmap\",\"colorbar\":{\"outlinewidth\":0,\"ticks\":\"\"},\"colorscale\":[[0.0,\"#0d0887\"],[0.1111111111111111,\"#46039f\"],[0.2222222222222222,\"#7201a8\"],[0.3333333333333333,\"#9c179e\"],[0.4444444444444444,\"#bd3786\"],[0.5555555555555556,\"#d8576b\"],[0.6666666666666666,\"#ed7953\"],[0.7777777777777778,\"#fb9f3a\"],[0.8888888888888888,\"#fdca26\"],[1.0,\"#f0f921\"]]}],\"heatmapgl\":[{\"type\":\"heatmapgl\",\"colorbar\":{\"outlinewidth\":0,\"ticks\":\"\"},\"colorscale\":[[0.0,\"#0d0887\"],[0.1111111111111111,\"#46039f\"],[0.2222222222222222,\"#7201a8\"],[0.3333333333333333,\"#9c179e\"],[0.4444444444444444,\"#bd3786\"],[0.5555555555555556,\"#d8576b\"],[0.6666666666666666,\"#ed7953\"],[0.7777777777777778,\"#fb9f3a\"],[0.8888888888888888,\"#fdca26\"],[1.0,\"#f0f921\"]]}],\"contourcarpet\":[{\"type\":\"contourcarpet\",\"colorbar\":{\"outlinewidth\":0,\"ticks\":\"\"}}],\"contour\":[{\"type\":\"contour\",\"colorbar\":{\"outlinewidth\":0,\"ticks\":\"\"},\"colorscale\":[[0.0,\"#0d0887\"],[0.1111111111111111,\"#46039f\"],[0.2222222222222222,\"#7201a8\"],[0.3333333333333333,\"#9c179e\"],[0.4444444444444444,\"#bd3786\"],[0.5555555555555556,\"#d8576b\"],[0.6666666666666666,\"#ed7953\"],[0.7777777777777778,\"#fb9f3a\"],[0.8888888888888888,\"#fdca26\"],[1.0,\"#f0f921\"]]}],\"surface\":[{\"type\":\"surface\",\"colorbar\":{\"outlinewidth\":0,\"ticks\":\"\"},\"colorscale\":[[0.0,\"#0d0887\"],[0.1111111111111111,\"#46039f\"],[0.2222222222222222,\"#7201a8\"],[0.3333333333333333,\"#9c179e\"],[0.4444444444444444,\"#bd3786\"],[0.5555555555555556,\"#d8576b\"],[0.6666666666666666,\"#ed7953\"],[0.7777777777777778,\"#fb9f3a\"],[0.8888888888888888,\"#fdca26\"],[1.0,\"#f0f921\"]]}],\"mesh3d\":[{\"type\":\"mesh3d\",\"colorbar\":{\"outlinewidth\":0,\"ticks\":\"\"}}],\"scatter\":[{\"fillpattern\":{\"fillmode\":\"overlay\",\"size\":10,\"solidity\":0.2},\"type\":\"scatter\"}],\"parcoords\":[{\"type\":\"parcoords\",\"line\":{\"colorbar\":{\"outlinewidth\":0,\"ticks\":\"\"}}}],\"scatterpolargl\":[{\"type\":\"scatterpolargl\",\"marker\":{\"colorbar\":{\"outlinewidth\":0,\"ticks\":\"\"}}}],\"bar\":[{\"error_x\":{\"color\":\"#2a3f5f\"},\"error_y\":{\"color\":\"#2a3f5f\"},\"marker\":{\"line\":{\"color\":\"#E5ECF6\",\"width\":0.5},\"pattern\":{\"fillmode\":\"overlay\",\"size\":10,\"solidity\":0.2}},\"type\":\"bar\"}],\"scattergeo\":[{\"type\":\"scattergeo\",\"marker\":{\"colorbar\":{\"outlinewidth\":0,\"ticks\":\"\"}}}],\"scatterpolar\":[{\"type\":\"scatterpolar\",\"marker\":{\"colorbar\":{\"outlinewidth\":0,\"ticks\":\"\"}}}],\"histogram\":[{\"marker\":{\"pattern\":{\"fillmode\":\"overlay\",\"size\":10,\"solidity\":0.2}},\"type\":\"histogram\"}],\"scattergl\":[{\"type\":\"scattergl\",\"marker\":{\"colorbar\":{\"outlinewidth\":0,\"ticks\":\"\"}}}],\"scatter3d\":[{\"type\":\"scatter3d\",\"line\":{\"colorbar\":{\"outlinewidth\":0,\"ticks\":\"\"}},\"marker\":{\"colorbar\":{\"outlinewidth\":0,\"ticks\":\"\"}}}],\"scattermapbox\":[{\"type\":\"scattermapbox\",\"marker\":{\"colorbar\":{\"outlinewidth\":0,\"ticks\":\"\"}}}],\"scatterternary\":[{\"type\":\"scatterternary\",\"marker\":{\"colorbar\":{\"outlinewidth\":0,\"ticks\":\"\"}}}],\"scattercarpet\":[{\"type\":\"scattercarpet\",\"marker\":{\"colorbar\":{\"outlinewidth\":0,\"ticks\":\"\"}}}],\"carpet\":[{\"aaxis\":{\"endlinecolor\":\"#2a3f5f\",\"gridcolor\":\"white\",\"linecolor\":\"white\",\"minorgridcolor\":\"white\",\"startlinecolor\":\"#2a3f5f\"},\"baxis\":{\"endlinecolor\":\"#2a3f5f\",\"gridcolor\":\"white\",\"linecolor\":\"white\",\"minorgridcolor\":\"white\",\"startlinecolor\":\"#2a3f5f\"},\"type\":\"carpet\"}],\"table\":[{\"cells\":{\"fill\":{\"color\":\"#EBF0F8\"},\"line\":{\"color\":\"white\"}},\"header\":{\"fill\":{\"color\":\"#C8D4E3\"},\"line\":{\"color\":\"white\"}},\"type\":\"table\"}],\"barpolar\":[{\"marker\":{\"line\":{\"color\":\"#E5ECF6\",\"width\":0.5},\"pattern\":{\"fillmode\":\"overlay\",\"size\":10,\"solidity\":0.2}},\"type\":\"barpolar\"}],\"pie\":[{\"automargin\":true,\"type\":\"pie\"}]},\"layout\":{\"autotypenumbers\":\"strict\",\"colorway\":[\"#636efa\",\"#EF553B\",\"#00cc96\",\"#ab63fa\",\"#FFA15A\",\"#19d3f3\",\"#FF6692\",\"#B6E880\",\"#FF97FF\",\"#FECB52\"],\"font\":{\"color\":\"#2a3f5f\"},\"hovermode\":\"closest\",\"hoverlabel\":{\"align\":\"left\"},\"paper_bgcolor\":\"white\",\"plot_bgcolor\":\"#E5ECF6\",\"polar\":{\"bgcolor\":\"#E5ECF6\",\"angularaxis\":{\"gridcolor\":\"white\",\"linecolor\":\"white\",\"ticks\":\"\"},\"radialaxis\":{\"gridcolor\":\"white\",\"linecolor\":\"white\",\"ticks\":\"\"}},\"ternary\":{\"bgcolor\":\"#E5ECF6\",\"aaxis\":{\"gridcolor\":\"white\",\"linecolor\":\"white\",\"ticks\":\"\"},\"baxis\":{\"gridcolor\":\"white\",\"linecolor\":\"white\",\"ticks\":\"\"},\"caxis\":{\"gridcolor\":\"white\",\"linecolor\":\"white\",\"ticks\":\"\"}},\"coloraxis\":{\"colorbar\":{\"outlinewidth\":0,\"ticks\":\"\"}},\"colorscale\":{\"sequential\":[[0.0,\"#0d0887\"],[0.1111111111111111,\"#46039f\"],[0.2222222222222222,\"#7201a8\"],[0.3333333333333333,\"#9c179e\"],[0.4444444444444444,\"#bd3786\"],[0.5555555555555556,\"#d8576b\"],[0.6666666666666666,\"#ed7953\"],[0.7777777777777778,\"#fb9f3a\"],[0.8888888888888888,\"#fdca26\"],[1.0,\"#f0f921\"]],\"sequentialminus\":[[0.0,\"#0d0887\"],[0.1111111111111111,\"#46039f\"],[0.2222222222222222,\"#7201a8\"],[0.3333333333333333,\"#9c179e\"],[0.4444444444444444,\"#bd3786\"],[0.5555555555555556,\"#d8576b\"],[0.6666666666666666,\"#ed7953\"],[0.7777777777777778,\"#fb9f3a\"],[0.8888888888888888,\"#fdca26\"],[1.0,\"#f0f921\"]],\"diverging\":[[0,\"#8e0152\"],[0.1,\"#c51b7d\"],[0.2,\"#de77ae\"],[0.3,\"#f1b6da\"],[0.4,\"#fde0ef\"],[0.5,\"#f7f7f7\"],[0.6,\"#e6f5d0\"],[0.7,\"#b8e186\"],[0.8,\"#7fbc41\"],[0.9,\"#4d9221\"],[1,\"#276419\"]]},\"xaxis\":{\"gridcolor\":\"white\",\"linecolor\":\"white\",\"ticks\":\"\",\"title\":{\"standoff\":15},\"zerolinecolor\":\"white\",\"automargin\":true,\"zerolinewidth\":2},\"yaxis\":{\"gridcolor\":\"white\",\"linecolor\":\"white\",\"ticks\":\"\",\"title\":{\"standoff\":15},\"zerolinecolor\":\"white\",\"automargin\":true,\"zerolinewidth\":2},\"scene\":{\"xaxis\":{\"backgroundcolor\":\"#E5ECF6\",\"gridcolor\":\"white\",\"linecolor\":\"white\",\"showbackground\":true,\"ticks\":\"\",\"zerolinecolor\":\"white\",\"gridwidth\":2},\"yaxis\":{\"backgroundcolor\":\"#E5ECF6\",\"gridcolor\":\"white\",\"linecolor\":\"white\",\"showbackground\":true,\"ticks\":\"\",\"zerolinecolor\":\"white\",\"gridwidth\":2},\"zaxis\":{\"backgroundcolor\":\"#E5ECF6\",\"gridcolor\":\"white\",\"linecolor\":\"white\",\"showbackground\":true,\"ticks\":\"\",\"zerolinecolor\":\"white\",\"gridwidth\":2}},\"shapedefaults\":{\"line\":{\"color\":\"#2a3f5f\"}},\"annotationdefaults\":{\"arrowcolor\":\"#2a3f5f\",\"arrowhead\":0,\"arrowwidth\":1},\"geo\":{\"bgcolor\":\"white\",\"landcolor\":\"#E5ECF6\",\"subunitcolor\":\"white\",\"showland\":true,\"showlakes\":true,\"lakecolor\":\"white\"},\"title\":{\"x\":0.05},\"mapbox\":{\"style\":\"light\"}}},\"annotations\":[{\"font\":{\"size\":16},\"showarrow\":false,\"text\":\"HS1\",\"x\":0.225,\"xanchor\":\"center\",\"xref\":\"paper\",\"y\":1.0,\"yanchor\":\"bottom\",\"yref\":\"paper\"},{\"font\":{\"size\":16},\"showarrow\":false,\"text\":\"HS2\",\"x\":0.775,\"xanchor\":\"center\",\"xref\":\"paper\",\"y\":1.0,\"yanchor\":\"bottom\",\"yref\":\"paper\"},{\"font\":{\"size\":16},\"showarrow\":false,\"text\":\"HS3\",\"x\":0.225,\"xanchor\":\"center\",\"xref\":\"paper\",\"y\":0.78,\"yanchor\":\"bottom\",\"yref\":\"paper\"},{\"font\":{\"size\":16},\"showarrow\":false,\"text\":\"HS4\",\"x\":0.775,\"xanchor\":\"center\",\"xref\":\"paper\",\"y\":0.78,\"yanchor\":\"bottom\",\"yref\":\"paper\"},{\"font\":{\"size\":16},\"showarrow\":false,\"text\":\"HS5\",\"x\":0.225,\"xanchor\":\"center\",\"xref\":\"paper\",\"y\":0.56,\"yanchor\":\"bottom\",\"yref\":\"paper\"},{\"font\":{\"size\":16},\"showarrow\":false,\"text\":\"HS6\",\"x\":0.775,\"xanchor\":\"center\",\"xref\":\"paper\",\"y\":0.56,\"yanchor\":\"bottom\",\"yref\":\"paper\"},{\"font\":{\"size\":16},\"showarrow\":false,\"text\":\"HS7\",\"x\":0.225,\"xanchor\":\"center\",\"xref\":\"paper\",\"y\":0.33999999999999997,\"yanchor\":\"bottom\",\"yref\":\"paper\"},{\"font\":{\"size\":16},\"showarrow\":false,\"text\":\"HS8\",\"x\":0.775,\"xanchor\":\"center\",\"xref\":\"paper\",\"y\":0.33999999999999997,\"yanchor\":\"bottom\",\"yref\":\"paper\"},{\"font\":{\"size\":16},\"showarrow\":false,\"text\":\"HS9\",\"x\":0.225,\"xanchor\":\"center\",\"xref\":\"paper\",\"y\":0.12,\"yanchor\":\"bottom\",\"yref\":\"paper\"},{\"font\":{\"size\":16},\"showarrow\":false,\"text\":\"HS10\",\"x\":0.775,\"xanchor\":\"center\",\"xref\":\"paper\",\"y\":0.12,\"yanchor\":\"bottom\",\"yref\":\"paper\"}],\"font\":{\"size\":6},\"height\":1500},                        {\"responsive\": true}                    ).then(function(){\n",
              "                            \n",
              "var gd = document.getElementById('6df4eb92-630d-49b5-acd7-59967f846518');\n",
              "var x = new MutationObserver(function (mutations, observer) {{\n",
              "        var display = window.getComputedStyle(gd).display;\n",
              "        if (!display || display === 'none') {{\n",
              "            console.log([gd, 'removed!']);\n",
              "            Plotly.purge(gd);\n",
              "            observer.disconnect();\n",
              "        }}\n",
              "}});\n",
              "\n",
              "// Listen for the removal of the full notebook cells\n",
              "var notebookContainer = gd.closest('#notebook-container');\n",
              "if (notebookContainer) {{\n",
              "    x.observe(notebookContainer, {childList: true});\n",
              "}}\n",
              "\n",
              "// Listen for the clearing of the current output cell\n",
              "var outputEl = gd.closest('.output');\n",
              "if (outputEl) {{\n",
              "    x.observe(outputEl, {childList: true});\n",
              "}}\n",
              "\n",
              "                        })                };                            </script>        </div>\n",
              "</body>\n",
              "</html>"
            ]
          },
          "metadata": {},
          "output_type": "display_data"
        }
      ],
      "source": [
        "import plotly.graph_objects as go\n",
        "from plotly.subplots import make_subplots\n",
        "import pandas as pd\n",
        "import kaleido\n",
        "\n",
        "# Number of patients\n",
        "num_patients = len(markers_dict)\n",
        "\n",
        "# Determine the number of rows and columns\n",
        "num_rows = 5\n",
        "num_cols = 2\n",
        "\n",
        "# Create subplots, specifying the type for each subplot\n",
        "fig = make_subplots(rows=num_rows, cols=num_cols,\n",
        "                    subplot_titles=list(markers_dict.keys()),\n",
        "                    specs=[[{\"type\": \"sankey\"}] * num_cols] * num_rows) # This line is changed\n",
        "\n",
        "# Loop through each patient and their corresponding DataFrame\n",
        "for i, (patient, df) in enumerate(markers_dict.items()):\n",
        "    row = i // num_cols + 1\n",
        "    col = i % num_cols + 1\n",
        "\n",
        "    # Create a list of unique nodes\n",
        "    all_nodes = list(pd.concat([df['Protein'], df['Disease']]).unique())\n",
        "    # Create a mapping from node name to index\n",
        "    node_mapping = {node: idx for idx, node in enumerate(all_nodes)}\n",
        "\n",
        "    # Map source and target nodes to their indices\n",
        "    df['Source'] = df['Protein'].map(node_mapping)\n",
        "    df['Target'] = df['Disease'].map(node_mapping)\n",
        "\n",
        "    # Create the Sankey diagram\n",
        "    sankey = go.Sankey(\n",
        "        node=dict(\n",
        "            pad=150,\n",
        "            thickness=20,\n",
        "            line=dict(color=\"black\", width=0.5),\n",
        "            label=all_nodes,\n",
        "        ),\n",
        "        link=dict(\n",
        "            source=df['Source'],\n",
        "            target=df['Target'],\n",
        "            value=[1] * len(df),  # The value is 1 for all of them\n",
        "            color=df['Color']\n",
        "        )\n",
        "    )\n",
        "\n",
        "    # Add the Sankey diagram to the appropriate subplot\n",
        "    fig.add_trace(sankey, row=row, col=col)\n",
        "\n",
        "# Update layout\n",
        "fig.update_layout(\n",
        "    height=300 * num_rows,  # Adjust height based on number of rows\n",
        "    #title_text=\"Sankey Diagrams for Each Patient\",\n",
        "    font_size=6\n",
        ")\n",
        "\n",
        "# Display the figure\n",
        "fig.show()\n"
      ]
    },
    {
      "cell_type": "code",
      "execution_count": null,
      "metadata": {
        "id": "Qu9zljdZXCh4"
      },
      "outputs": [],
      "source": [
        "#!pip install -U kaleido\n",
        "# Save the figure to a PDF file\n",
        "fig.write_image(\"patient_marker_sankey_diagrams.pdf\", format=\"pdf\")"
      ]
    }
  ],
  "metadata": {
    "colab": {
      "provenance": []
    },
    "kernelspec": {
      "display_name": "Python 3",
      "name": "python3"
    },
    "language_info": {
      "codemirror_mode": {
        "name": "ipython",
        "version": 3
      },
      "file_extension": ".py",
      "mimetype": "text/x-python",
      "name": "python",
      "nbconvert_exporter": "python",
      "pygments_lexer": "ipython3",
      "version": "3.12.3"
    }
  },
  "nbformat": 4,
  "nbformat_minor": 0
}
